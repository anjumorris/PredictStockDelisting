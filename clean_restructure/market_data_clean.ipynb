{
 "cells": [
  {
   "cell_type": "markdown",
   "metadata": {},
   "source": [
    "# CLEAN STOCK MARKET DATA\n",
    "## CLEANING AND RESTRUCTURING  - PART3\n",
    "Clean stock market data and aggregate at annual level for each company<br>\n",
    "Read - market_data.csv - a huge 4GB file of stock market information for everyday for every traded company<br>\n",
    "Write - cleaned_market_data.csv - this is cleaned version of all our companies of interest - used by tableau dashboard and used by the model. The data is aggregated to the level of a year<br>\n",
    "Please do not run this as the input file is huge 4GB"
   ]
  },
  {
   "cell_type": "code",
   "execution_count": null,
   "metadata": {},
   "outputs": [],
   "source": [
    "import numpy as np\n",
    "import pandas as pd"
   ]
  },
  {
   "cell_type": "code",
   "execution_count": null,
   "metadata": {},
   "outputs": [],
   "source": [
    "pd.set_option('display.max_columns', None)\n",
    "pd.set_option('display.max_rows', 30)"
   ]
  },
  {
   "cell_type": "code",
   "execution_count": null,
   "metadata": {},
   "outputs": [],
   "source": [
    "# note this is a 4GB file ... It will not be available in the repo\n",
    "df = pd.read_csv('../data/market_data/market_dat.txt', delimiter =\"|\",low_memory = False)\n",
    "df.head()"
   ]
  },
  {
   "cell_type": "markdown",
   "metadata": {},
   "source": [
    "### 1. SELECT FEATURES"
   ]
  },
  {
   "cell_type": "code",
   "execution_count": null,
   "metadata": {},
   "outputs": [],
   "source": [
    "headers_keep = ['co_code','company_name','co_stkdate','bse_opening_price','bse_high_price','bse_low_price',\\\n",
    "                'bse_closing_price','bse_returns','bse_traded_qty','bse_market_cap','bse_pe','bse_pb',\\\n",
    "                'nse_opening_price','nse_high_price','nse_low_price','nse_returns','nse_traded_qty',\\\n",
    "                'nse_traded_val','nse_market_cap','nse_pe','nse_pb','equity_facevalue_on_stkdate',\\\n",
    "                'eps_on_stkdate','equity_bv_on_stkdate']\n",
    "df = df.loc[:,headers_keep]"
   ]
  },
  {
   "cell_type": "code",
   "execution_count": null,
   "metadata": {},
   "outputs": [],
   "source": [
    "df.shape"
   ]
  },
  {
   "cell_type": "code",
   "execution_count": null,
   "metadata": {},
   "outputs": [],
   "source": [
    "df.info()"
   ]
  },
  {
   "cell_type": "code",
   "execution_count": null,
   "metadata": {},
   "outputs": [],
   "source": [
    "# read the date field to a datetime obj\n",
    "df['co_stkdate'] = pd.to_datetime(df['co_stkdate'], format=\"%Y%m%d\")"
   ]
  },
  {
   "cell_type": "code",
   "execution_count": null,
   "metadata": {},
   "outputs": [],
   "source": [
    "# look at data from 2014 onwards only\n",
    "df = df.loc[df['co_stkdate'].dt.year>=2014,:]\n",
    "df.shape"
   ]
  },
  {
   "cell_type": "markdown",
   "metadata": {},
   "source": [
    "### 2. OPEN COMPANY IDENTITY INFORMATION\n",
    "restured_identity.csv - this is for mapping"
   ]
  },
  {
   "cell_type": "code",
   "execution_count": null,
   "metadata": {},
   "outputs": [],
   "source": [
    "cid = pd.read_csv('../data/restructure_identity.csv')\n",
    "cid = cid.drop(columns='Unnamed: 0')\n",
    "cid.head()"
   ]
  },
  {
   "cell_type": "code",
   "execution_count": null,
   "metadata": {},
   "outputs": [],
   "source": [
    "# select only companies that were at somepoint listed\n",
    "df = df.loc[df['co_code'].isin(cid['co_code']),:]"
   ]
  },
  {
   "cell_type": "code",
   "execution_count": null,
   "metadata": {},
   "outputs": [],
   "source": [
    "# the shape hasnt changed because only listed companies ever have market data about them.\n",
    "# this is a good double check as nothing has changed \n",
    "df.shape"
   ]
  },
  {
   "cell_type": "markdown",
   "metadata": {},
   "source": [
    "### 3. AGGREGATE DATA AT THE YEAR LEVEL"
   ]
  },
  {
   "cell_type": "code",
   "execution_count": null,
   "metadata": {},
   "outputs": [],
   "source": [
    "# collapse all datetime to just the year\n",
    "df['co_stkdate'] = df['co_stkdate'].dt.year"
   ]
  },
  {
   "cell_type": "code",
   "execution_count": null,
   "metadata": {},
   "outputs": [],
   "source": [
    "df.info()"
   ]
  },
  {
   "cell_type": "code",
   "execution_count": null,
   "metadata": {},
   "outputs": [],
   "source": [
    "# compressing to values for just one year\n",
    "df=df.groupby(['co_code', 'co_stkdate']).max().reset_index()"
   ]
  },
  {
   "cell_type": "code",
   "execution_count": null,
   "metadata": {},
   "outputs": [],
   "source": [
    "df.shape"
   ]
  },
  {
   "cell_type": "markdown",
   "metadata": {},
   "source": [
    "### 4.  COMBINE NSE AND BSE DATA\n",
    "There are two stock exchanges in India so I combine their data -> simple rule which is higher"
   ]
  },
  {
   "cell_type": "code",
   "execution_count": null,
   "metadata": {},
   "outputs": [],
   "source": [
    "def combine_cols(new,bse,nse):\n",
    "    df[new] = np.nan\n",
    "    \n",
    "    #if both are not null set new to the higher of the two\n",
    "    df.loc[(df[nse].notna()) & (df[bse].notna()) & (df[nse]>=df[bse]),new] =\\\n",
    "    df.loc[(df[nse].notna()) & (df[bse].notna()) & (df[nse]>=df[bse]),nse]\n",
    "    \n",
    "    df.loc[(df[nse].notna()) & (df[bse].notna()) & (df[nse]<=df[bse]),new] =\\\n",
    "    df.loc[(df[nse].notna()) & (df[bse].notna()) & (df[nse]<=df[bse]),bse]\n",
    "   \n",
    "    df.loc[(df[bse].isnull()),new] = df.loc[(df[bse].isnull()),nse]\n",
    "   \n",
    "    df.loc[(df[nse].isnull()),new] = df.loc[(df[nse].isnull()),bse]\n",
    "    df.drop(bse, axis=1, inplace=True)\n",
    "    df.drop(nse, axis=1, inplace=True)\n",
    "    "
   ]
  },
  {
   "cell_type": "code",
   "execution_count": null,
   "metadata": {},
   "outputs": [],
   "source": [
    "combine_cols('high_price','bse_high_price','nse_high_price')\n",
    "combine_cols('stock_returns','bse_returns','nse_returns')\n",
    "combine_cols('market_cap','bse_market_cap','nse_market_cap')\n",
    "combine_cols('pe','bse_pe','nse_pe')\n",
    "combine_cols('pb','bse_pb','nse_pb')\n",
    "combine_cols('traded_qty','bse_traded_qty','nse_traded_qty')"
   ]
  },
  {
   "cell_type": "code",
   "execution_count": null,
   "metadata": {},
   "outputs": [],
   "source": [
    "df.head()"
   ]
  },
  {
   "cell_type": "markdown",
   "metadata": {},
   "source": [
    "### 4. FINAL CLEAN AND WRITE"
   ]
  },
  {
   "cell_type": "code",
   "execution_count": null,
   "metadata": {},
   "outputs": [],
   "source": [
    "# headers to keep\n",
    "headers = ['co_code', 'co_stkdate', 'company_name','equity_facevalue_on_stkdate',\n",
    "       'eps_on_stkdate', 'equity_bv_on_stkdate', 'high_price', 'stock_returns',\n",
    "       'market_cap', 'pe', 'pb', 'traded_qty']\n",
    "df = df.loc[:,headers]"
   ]
  },
  {
   "cell_type": "code",
   "execution_count": null,
   "metadata": {},
   "outputs": [],
   "source": [
    "df.head()"
   ]
  },
  {
   "cell_type": "code",
   "execution_count": null,
   "metadata": {},
   "outputs": [],
   "source": [
    "# save file\n",
    "df.to_csv('../data/cleaned_market_data.csv')"
   ]
  }
 ],
 "metadata": {
  "kernelspec": {
   "display_name": "Python 3",
   "language": "python",
   "name": "python3"
  },
  "language_info": {
   "codemirror_mode": {
    "name": "ipython",
    "version": 3
   },
   "file_extension": ".py",
   "mimetype": "text/x-python",
   "name": "python",
   "nbconvert_exporter": "python",
   "pygments_lexer": "ipython3",
   "version": "3.6.6"
  }
 },
 "nbformat": 4,
 "nbformat_minor": 2
}
